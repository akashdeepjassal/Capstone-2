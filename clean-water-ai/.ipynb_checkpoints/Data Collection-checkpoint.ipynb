{
 "cells": [
  {
   "cell_type": "code",
   "execution_count": 110,
   "metadata": {},
   "outputs": [],
   "source": [
    "import traitlets\n",
    "import ipywidgets.widgets as widgets\n",
    "from IPython.display import display"
   ]
  },
  {
   "cell_type": "code",
   "execution_count": 111,
   "metadata": {},
   "outputs": [
    {
     "name": "stdout",
     "output_type": "stream",
     "text": [
      "Directories not created becasue they already exist\n"
     ]
    }
   ],
   "source": [
    "import os\n",
    "\n",
    "cont_dir = 'dataset/contaminated'\n",
    "safe_dir = 'dataset/safe'\n",
    "\n",
    "# we have this \"try/except\" statement because these next functions can throw an error if the directories exist already\n",
    "try:\n",
    "    os.makedirs(cont_dir)\n",
    "    os.makedirs(safe_dir)\n",
    "except FileExistsError:\n",
    "    print('Directories not created becasue they already exist')"
   ]
  },
  {
   "cell_type": "code",
   "execution_count": null,
   "metadata": {},
   "outputs": [],
   "source": []
  },
  {
   "cell_type": "code",
   "execution_count": 112,
   "metadata": {},
   "outputs": [
    {
     "data": {
      "application/vnd.jupyter.widget-view+json": {
       "model_id": "7d5074eec98d47e9935608bfe418f646",
       "version_major": 2,
       "version_minor": 0
      },
      "text/plain": [
       "HBox(children=(IntText(value=350, layout=Layout(height='128px', width='256px')), Button(button_style='success'…"
      ]
     },
     "metadata": {},
     "output_type": "display_data"
    },
    {
     "data": {
      "application/vnd.jupyter.widget-view+json": {
       "model_id": "befefc7b2e794853a2253522a347dd36",
       "version_major": 2,
       "version_minor": 0
      },
      "text/plain": [
       "HBox(children=(IntText(value=351, layout=Layout(height='128px', width='256px')), Button(button_style='danger',…"
      ]
     },
     "metadata": {},
     "output_type": "display_data"
    }
   ],
   "source": [
    "button_layout = widgets.Layout(width='256px', height='128px')\n",
    "free_button = widgets.Button(description='Add Safe Water Samples', button_style='success', layout=button_layout)\n",
    "blocked_button = widgets.Button(description='Add Contaminated Water Samples', button_style='danger', layout=button_layout)\n",
    "safe_count = widgets.IntText(layout=button_layout, value=len(os.listdir(safe_dir)))\n",
    "contaminated_count = widgets.IntText(layout=button_layout, value=len(os.listdir(cont_dir)))\n",
    "\n",
    "display(widgets.HBox([safe_count, free_button]))\n",
    "display(widgets.HBox([contaminated_count, blocked_button]))"
   ]
  },
  {
   "cell_type": "code",
   "execution_count": 113,
   "metadata": {},
   "outputs": [],
   "source": [
    "from uuid import uuid1\n",
    "import fileupload\n",
    "\n",
    "def save_snapshot(directory):\n",
    "    uploader = fileupload.FileUploadWidget()\n",
    "    def _handle_upload(change):\n",
    "        w = change['owner']\n",
    "        with open(directory+'/'+w.filename, 'wb') as f:\n",
    "            f.write((w.data))\n",
    "        print('Uploaded `{}` ({:.2f} kB)'.format(\n",
    "            w.filename, len(w.data) / 2**10))\n",
    "\n",
    "    uploader.observe(_handle_upload, names='data')\n",
    "\n",
    "    display(uploader)\n",
    "\n",
    "    \n",
    "def save_free():\n",
    "    global safe_dir, safe_count\n",
    "    save_snapshot(free_dir)\n",
    "    safe_count.value = len(os.listdir(safe_dir))\n",
    "    \n",
    "def save_blocked():\n",
    "    global cont_dir, contaminated_count\n",
    "    save_snapshot(blocked_dir)\n",
    "    contaminated_count.value = len(os.listdir(cont_dir))\n",
    "    \n",
    "# attach the callbacks, we use a 'lambda' function to ignore the\n",
    "# parameter that the on_click event would provide to our function\n",
    "# because we don't need it.\n",
    "free_button.on_click(lambda x: save_free())\n",
    "blocked_button.on_click(lambda x: save_blocked())"
   ]
  },
  {
   "cell_type": "code",
   "execution_count": null,
   "metadata": {},
   "outputs": [],
   "source": []
  },
  {
   "cell_type": "code",
   "execution_count": null,
   "metadata": {},
   "outputs": [],
   "source": []
  }
 ],
 "metadata": {
  "kernelspec": {
   "display_name": "tensorflow_env",
   "language": "python",
   "name": "tensorflow_env"
  },
  "language_info": {
   "codemirror_mode": {
    "name": "ipython",
    "version": 3
   },
   "file_extension": ".py",
   "mimetype": "text/x-python",
   "name": "python",
   "nbconvert_exporter": "python",
   "pygments_lexer": "ipython3",
   "version": "3.6.7"
  }
 },
 "nbformat": 4,
 "nbformat_minor": 2
}
